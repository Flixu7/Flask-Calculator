{
  "nbformat": 4,
  "nbformat_minor": 0,
  "metadata": {
    "colab": {
      "provenance": [],
      "collapsed_sections": [
        "e9b9cffa"
      ],
      "authorship_tag": "ABX9TyOfhdw4PlRR/hSBrfml2Fk2",
      "include_colab_link": true
    },
    "kernelspec": {
      "name": "python3",
      "display_name": "Python 3"
    },
    "language_info": {
      "name": "python"
    }
  },
  "cells": [
    {
      "cell_type": "markdown",
      "metadata": {
        "id": "view-in-github",
        "colab_type": "text"
      },
      "source": [
        "<a href=\"https://colab.research.google.com/github/Flixu7/Flask-Calculator/blob/main/strings.ipynb\" target=\"_parent\"><img src=\"https://colab.research.google.com/assets/colab-badge.svg\" alt=\"Open In Colab\"/></a>"
      ]
    },
    {
      "cell_type": "code",
      "source": [
        "a = \"Bogdan Adamczewski\"\n",
        "reverse = a[::-1]\n",
        "\n",
        "print(reverse)"
      ],
      "metadata": {
        "colab": {
          "base_uri": "https://localhost:8080/"
        },
        "id": "Urq3EjvTGRJw",
        "outputId": "76a12757-cf23-43cd-e0f6-6fde1c833656"
      },
      "execution_count": null,
      "outputs": [
        {
          "output_type": "stream",
          "name": "stdout",
          "text": [
            "ikswezcmadA nadgoB\n"
          ]
        }
      ]
    },
    {
      "cell_type": "markdown",
      "source": [],
      "metadata": {
        "id": "mnJwIkvrgU8A"
      }
    },
    {
      "cell_type": "code",
      "source": [
        "b = \"Jan Pawel\"\n",
        "print(b)\n",
        "text = b.split()\n",
        "reverse_txt = text[::-1]\n",
        "final_text = \" \".join(reverse_txt) # łączy elementy listy (ciągów znaków) w jeden ciąg znaków, używając podanego separatora\n",
        "print(final_text)\n"
      ],
      "metadata": {
        "colab": {
          "base_uri": "https://localhost:8080/"
        },
        "id": "U-HjnGmgEnwR",
        "outputId": "a5d3caf3-0734-4670-c28b-f0e868e71a63"
      },
      "execution_count": null,
      "outputs": [
        {
          "output_type": "stream",
          "name": "stdout",
          "text": [
            "Jan Pawel\n",
            "Pawel Jan\n"
          ]
        }
      ]
    },
    {
      "cell_type": "code",
      "source": [],
      "metadata": {
        "id": "hqUc2De_J4f3"
      },
      "execution_count": null,
      "outputs": []
    },
    {
      "cell_type": "code",
      "source": [
        "c = input(\"Enter your name sir and wait for magic: \").split()\n",
        "\n",
        "if len(c) >= 2: # Sprawdzamy czy podano co najmniej dwa słowa (imię i nazwisko)\n",
        "  Imie = c[0] #pierwsze słowo z listy c (znajdujące się pod indeksem 0) jest przypisywane do zmiennej Imie\n",
        "  Nazwisko = c[1] #Drugie słowo z listy c (znajdujące się pod indeksem 1) jest przypisywane do zmiennej Nazwisko.\n",
        "\n",
        "  pierwsza_litera_imienia = Imie[0] #bierze index 0 z imienia\n",
        "  pierwsza_litera_nazwiska = Nazwisko[0] #bierze index 0 z nazwiska\n",
        "\n",
        "  print(f\"Pierwsza litera imienia: {pierwsza_litera_imienia}\")\n",
        "  print(f\"Pierwsza litera nazwiska: {pierwsza_litera_nazwiska}\")\n",
        "elif len(c) == 1:\n",
        "  print(\"Podałeś tylko imię. Nie mogę pobrać pierwszej litery nazwiska.\")\n",
        "else:\n",
        "  print(\"Nie podałeś żadnego imienia ani nazwiska.\")"
      ],
      "metadata": {
        "colab": {
          "base_uri": "https://localhost:8080/"
        },
        "id": "fv_DyIAhIoQm",
        "outputId": "5c2daaad-c461-40f1-f2ea-3ea3c5e622e0"
      },
      "execution_count": null,
      "outputs": [
        {
          "output_type": "stream",
          "name": "stdout",
          "text": [
            "Enter your name sir and wait for magic: Daniel Dyb\n",
            "Pierwsza litera imienia: D\n",
            "Pierwsza litera nazwiska: D\n"
          ]
        }
      ]
    },
    {
      "cell_type": "code",
      "source": [
        "phrase = input(\"Enter your name sir and wait for magic: \").split()\n",
        "\n",
        "name = phrase[0]\n",
        "surname = phrase[1]\n",
        "\n",
        "first_name_letter = name[0]\n",
        "first_surname_letter = surname[0]\n",
        "\n",
        "if first_name_letter.isupper() == True and first_surname_letter.isupper() == True:\n",
        "  print(f\"First name letter: {first_name_letter}\")\n",
        "  print(f\"First surname letter: {first_surname_letter}\")\n",
        "else:\n",
        "  print(\"Error\")"
      ],
      "metadata": {
        "colab": {
          "base_uri": "https://localhost:8080/"
        },
        "id": "YyZvInWDgV9y",
        "outputId": "a43febf0-058d-4a0a-afaf-51ccc8834328"
      },
      "execution_count": 7,
      "outputs": [
        {
          "output_type": "stream",
          "name": "stdout",
          "text": [
            "Enter your name sir and wait for magic: Fkfj ssd\n",
            "Error\n"
          ]
        }
      ]
    },
    {
      "cell_type": "markdown",
      "metadata": {
        "id": "e9b9cffa"
      },
      "source": [
        "### Ważne metody ciągów znaków (stringów) w Pythonie:"
      ]
    },
    {
      "cell_type": "code",
      "metadata": {
        "id": "b2d53cc3"
      },
      "source": [
        "# 1. len() - zwraca długość ciągu znaków\n",
        "text = \"Witaj świecie!\"\n",
        "dlugosc = len(text)\n",
        "print(f\"Długość tekstu: {dlugosc}\")"
      ],
      "execution_count": null,
      "outputs": []
    },
    {
      "cell_type": "code",
      "metadata": {
        "id": "270357ab"
      },
      "source": [
        "# 2. lower() i upper() - konwertują tekst na małe lub duże litery\n",
        "text = \"Python Jest Super\"\n",
        "male_litery = text.lower()\n",
        "duze_litery = text.upper()\n",
        "print(f\"Małe litery: {male_litery}\")\n",
        "print(f\"Duże litery: {duze_litery}\")"
      ],
      "execution_count": null,
      "outputs": []
    },
    {
      "cell_type": "code",
      "metadata": {
        "id": "fc3a1e19"
      },
      "source": [
        "# 3. strip() - usuwa białe znaki (spacje, tabulatory, nowe linie) z początku i końca ciągu\n",
        "text = \"    duzo spacji   \"\n",
        "bez_spacji = text.strip()\n",
        "print(f\"Tekst bez spacji: '{bez_spacji}'\")"
      ],
      "execution_count": null,
      "outputs": []
    },
    {
      "cell_type": "code",
      "metadata": {
        "id": "1f50f793"
      },
      "source": [
        "# 4. split() - dzieli ciąg znaków na listę podciągów (słów), domyślnie według spacji\n",
        "text = \"Ala ma kota\"\n",
        "slowa = text.split()\n",
        "print(f\"Podzielony tekst (lista słów): {slowa}\")\n",
        "\n",
        "# Można również podać inny separator\n",
        "data = \"2023-10-27\"\n",
        "czesci_daty = data.split(\"-\")\n",
        "print(f\"Części daty: {czesci_daty}\")"
      ],
      "execution_count": null,
      "outputs": []
    },
    {
      "cell_type": "code",
      "metadata": {
        "id": "796b1684"
      },
      "source": [
        "# 5. join() - łączy elementy listy (ciągów znaków) w jeden ciąg znaków, używając podanego separatora\n",
        "slowa = ['Python', 'jest', 'fajny']\n",
        "zdanie = \" \".join(slowa) # Połączenie spacją\n",
        "print(f\"Połączone słowa (zdanie): {zdanie}\")\n",
        "\n",
        "kod = [\"PL\", \"123\", \"456\"]\n",
        "kod_pocztowy = \"-\".join(kod) # Połączenie myślnikiem\n",
        "print(f\"Kod pocztowy: {kod_pocztowy}\")"
      ],
      "execution_count": null,
      "outputs": []
    },
    {
      "cell_type": "code",
      "metadata": {
        "id": "94b94e8f"
      },
      "source": [
        "# 6. replace() - zamienia wszystkie wystąpienia jednego podciągu na inny\n",
        "text = \"Lubię jabłka, ale wolę gruszki.\"\n",
        "nowy_text = text.replace(\"jabłka\", \"banany\")\n",
        "print(f\"Tekst po zamianie: {nowy_text}\")"
      ],
      "execution_count": null,
      "outputs": []
    },
    {
      "cell_type": "code",
      "metadata": {
        "id": "daddb749"
      },
      "source": [
        "# 7. find() / index() - znajdują indeks pierwszego wystąpienia podciągu\n",
        "# find() zwraca -1, jeśli nie znaleziono, index() zgłasza błąd\n",
        "text = \"Programowanie jest ciekawe.\"\n",
        "indeks = text.find(\"jest\")\n",
        "print(f\"Indeks 'jest': {indeks}\")\n",
        "\n",
        "indeks_nieobecny = text.find(\"nie ma\")\n",
        "print(f\"Indeks 'nie ma': {indeks_nieobecny}\") # Zwróci -1\n",
        "\n",
        "# indeks()\n",
        "try:\n",
        "  indeks_index = text.index(\"jest\")\n",
        "  print(f\"Indeks 'jest' (index): {indeks_index}\")\n",
        "  indeks_nieobecny_index = text.index(\"nie ma\") # Zgłosi błąd\n",
        "except ValueError as e:\n",
        "  print(f\"Błąd przy użyciu index() dla 'nie ma': {e}\")"
      ],
      "execution_count": null,
      "outputs": []
    },
    {
      "cell_type": "code",
      "metadata": {
        "id": "ef6df740"
      },
      "source": [
        "# 8. startswith() / endswith() - sprawdzają, czy ciąg znaków zaczyna/kończy się na dany podciąg\n",
        "text = \"Plik_raportu.csv\"\n",
        "zaczyna_sie = text.startswith(\"Plik\")\n",
        "konczy_sie = text.endswith(\".csv\")\n",
        "print(f\"Zaczyna się na 'Plik': {zaczyna_sie}\")\n",
        "print(f\"Kończy się na '.csv': {konczy_sie}\")"
      ],
      "execution_count": null,
      "outputs": []
    },
    {
      "cell_type": "code",
      "metadata": {
        "id": "ab6c5e07"
      },
      "source": [
        "# 9. isdigit() / isalpha() / isspace() itp. - sprawdzają, czy ciąg składa się tylko z cyfr/liter/białych znaków\n",
        "cyfry = \"12345\"\n",
        "litery = \"abcDEF\"\n",
        "spacja = \" \"\n",
        "\n",
        "print(f\"'{cyfry}' to same cyfry? {cyfry.isdigit()}\")\n",
        "print(f\"'{litery}' to same litery? {litery.isalpha()}\")\n",
        "print(f\"'{spacja}' to sam biały znak? {spacja.isspace()}\")"
      ],
      "execution_count": null,
      "outputs": []
    },
    {
      "cell_type": "markdown",
      "source": [
        "Autor : Maciej Dybała 3C"
      ],
      "metadata": {
        "id": "pP_ayzYkifYk"
      }
    }
  ]
}